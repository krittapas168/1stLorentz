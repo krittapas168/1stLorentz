{
 "cells": [
  {
   "cell_type": "code",
   "execution_count": 32,
   "id": "e5a76dd2-ef28-4001-bdd3-2e34ee479575",
   "metadata": {},
   "outputs": [],
   "source": [
    "import pandas as pd"
   ]
  },
  {
   "cell_type": "code",
   "execution_count": 33,
   "id": "c098a401-bde8-4f6e-a1b4-b307b3ba104e",
   "metadata": {},
   "outputs": [],
   "source": [
    "import numpy as np"
   ]
  },
  {
   "cell_type": "code",
   "execution_count": 34,
   "id": "5ee076cf-1c46-49d0-a888-d9e6c8903b29",
   "metadata": {},
   "outputs": [],
   "source": [
    "import matplotlib.pyplot as plt"
   ]
  },
  {
   "cell_type": "code",
   "execution_count": 35,
   "id": "44409e35-23f4-419c-9b4c-fb8297ec3d93",
   "metadata": {},
   "outputs": [],
   "source": [
    "from sklearn.preprocessing import MinMaxScaler"
   ]
  },
  {
   "cell_type": "code",
   "execution_count": 45,
   "id": "aa65df2f-0d4e-422b-ba83-6ca20e19a4b2",
   "metadata": {},
   "outputs": [],
   "source": [
    "scaler = MinMaxScaler()"
   ]
  },
  {
   "cell_type": "code",
   "execution_count": null,
   "id": "30a83292-2566-45de-a420-4833ce605dcc",
   "metadata": {},
   "outputs": [],
   "source": [
    "# # # # # # # # # # #"
   ]
  },
  {
   "cell_type": "code",
   "execution_count": null,
   "id": "f0be3599-6654-48b5-b11d-4a09b335e6c0",
   "metadata": {},
   "outputs": [],
   "source": [
    "historical_data = historical_data = pd.read_csv('historical_data.csv')"
   ]
  },
  {
   "cell_type": "code",
   "execution_count": null,
   "id": "16d68d3f-8915-4972-ba2d-2ea97ec8f876",
   "metadata": {},
   "outputs": [],
   "source": [
    "spectrometer_columns = [f'spectrometer_spectrometer{i}' for i in range(1, 17)]"
   ]
  },
  {
   "cell_type": "code",
   "execution_count": null,
   "id": "39527035-e6b0-4ad9-a75e-9b59b14d6a75",
   "metadata": {},
   "outputs": [],
   "source": [
    "historical_spec = historical_data[spectrometer_columns]"
   ]
  },
  {
   "cell_type": "code",
   "execution_count": null,
   "id": "7e7a8c2b-dfc1-4759-bc59-825393b8ff45",
   "metadata": {},
   "outputs": [],
   "source": [
    "norm_hist = scaler.fit_transform(historical_spec)"
   ]
  },
  {
   "cell_type": "code",
   "execution_count": null,
   "id": "2650cc24-a48e-4ab9-92e5-2ebe085ab89d",
   "metadata": {},
   "outputs": [],
   "source": [
    "max_hist = norm_hist.max(axis=1)"
   ]
  },
  {
   "cell_type": "code",
   "execution_count": null,
   "id": "83c61c6e-2acb-4f98-bb08-a76eaafacba8",
   "metadata": {},
   "outputs": [],
   "source": [
    "spectrometer_threshold = np.percentile(max_hist, 90)"
   ]
  },
  {
   "cell_type": "code",
   "execution_count": null,
   "id": "a5b0e7a7-fb2c-4cd6-bc1b-03107f02c21c",
   "metadata": {},
   "outputs": [],
   "source": [
    "spectrometer_voltage_threshold = np.percentile(data['spectrometer-voltage'], 90)"
   ]
  },
  {
   "cell_type": "code",
   "execution_count": null,
   "id": "18f75186-4209-4b48-972f-2824c01e11da",
   "metadata": {},
   "outputs": [],
   "source": [
    "print(\"Spectrometer threshold:\", spectrometer_threshold)\n",
    "print(\"Spectrometer Voltage threshold:\", spectrometer_voltage_threshold)"
   ]
  },
  {
   "cell_type": "code",
   "execution_count": 36,
   "id": "ccdbe76e-1c67-4b41-8590-2eb103d6017f",
   "metadata": {},
   "outputs": [],
   "source": [
    "# # # # # # # # # # #"
   ]
  },
  {
   "cell_type": "code",
   "execution_count": 37,
   "id": "f5e3fdf0-e418-4b99-bf36-7ba5ba2184fa",
   "metadata": {},
   "outputs": [],
   "source": [
    "data = pd.read_csv('../telemetry_logs/data_telemetry_device0_15.csv')"
   ]
  },
  {
   "cell_type": "code",
   "execution_count": 38,
   "id": "4d950423-0d96-4a95-b3e0-935fbe861184",
   "metadata": {},
   "outputs": [
    {
     "name": "stdout",
     "output_type": "stream",
     "text": [
      "Index(['packet-counter', 'timestamp', 'lidar-lite-v3', 'latitude', 'longitude',\n",
      "       'altitude', 'accelerometer', 'velocity', 'spectrometer-water-detect',\n",
      "       'spectrometer-voltage', 'spectrometer_spectrometer1',\n",
      "       'spectrometer_spectrometer2', 'spectrometer_spectrometer3',\n",
      "       'spectrometer_spectrometer4', 'spectrometer_spectrometer5'],\n",
      "      dtype='object')\n"
     ]
    }
   ],
   "source": [
    "print(data.columns)"
   ]
  },
  {
   "cell_type": "code",
   "execution_count": 40,
   "id": "98a6550a-4437-47e7-9a32-63891d75086e",
   "metadata": {},
   "outputs": [],
   "source": [
    "spectrometer_data = data[spectrometer_columns]"
   ]
  },
  {
   "cell_type": "code",
   "execution_count": 41,
   "id": "a6583310-6ffe-4ad9-8566-097ac0d1e5c2",
   "metadata": {},
   "outputs": [],
   "source": [
    "spectrometer_voltage = data['spectrometer-voltage']"
   ]
  },
  {
   "cell_type": "code",
   "execution_count": 42,
   "id": "2f87e3fd-4ce9-419e-b5c4-de6d3301de3c",
   "metadata": {},
   "outputs": [],
   "source": [
    "water_detect_flag = data['spectrometer-water-detect']"
   ]
  },
  {
   "cell_type": "code",
   "execution_count": 43,
   "id": "24af76d3-c12f-423c-8626-1e9c0a9344b0",
   "metadata": {},
   "outputs": [],
   "source": [
    "timestamps = pd.to_datetime(data['timestamp'], unit='s')"
   ]
  },
  {
   "cell_type": "code",
   "execution_count": 44,
   "id": "2f70c048-7c77-472c-a44a-749ddb27ec95",
   "metadata": {},
   "outputs": [],
   "source": [
    "# # # # # # # # # # #"
   ]
  },
  {
   "cell_type": "code",
   "execution_count": 46,
   "id": "3e1c5469-4df0-4d2e-8a19-52a1d16170bd",
   "metadata": {},
   "outputs": [],
   "source": [
    "normalized_spectrometer = scaler.fit_transform(spectrometer_data)"
   ]
  },
  {
   "cell_type": "code",
   "execution_count": null,
   "id": "393bf44b-e6a0-44f2-bbb6-e3c388bce566",
   "metadata": {},
   "outputs": [],
   "source": [
    "max_hist = normalized_spectrometer.max(axis=1)"
   ]
  },
  {
   "cell_type": "code",
   "execution_count": null,
   "id": "a2c27386-918e-48b0-9968-35dd58493f6c",
   "metadata": {},
   "outputs": [],
   "source": [
    "spectrometer_threshold = np.percentile(max_hist, 90)"
   ]
  },
  {
   "cell_type": "code",
   "execution_count": null,
   "id": "0faa2f3c-8fcd-4241-8764-2be5cd9564fb",
   "metadata": {},
   "outputs": [],
   "source": [
    "voltage_threshold = np.percentile(data['spectrometer-voltage'], 90)"
   ]
  },
  {
   "cell_type": "code",
   "execution_count": null,
   "id": "7f2db893-9a98-4bf8-9d14-b1c15616bb1e",
   "metadata": {},
   "outputs": [],
   "source": [
    "combined_condition = (max_hist > spectrometer_threshold) & (data['spectrometer-voltage'] > voltage_threshold)"
   ]
  },
  {
   "cell_type": "code",
   "execution_count": null,
   "id": "23308655-ff61-4f59-a90f-2125c6465a98",
   "metadata": {},
   "outputs": [],
   "source": [
    "water_detect_flag = data['spectrometer-water-detect']"
   ]
  },
  {
   "cell_type": "code",
   "execution_count": 52,
   "id": "90f78dd6-a029-4297-ae27-dd43799677e0",
   "metadata": {},
   "outputs": [],
   "source": [
    "# # # # # # # # # # #"
   ]
  },
  {
   "cell_type": "code",
   "execution_count": 53,
   "id": "916767e6-74c8-4b49-b192-96e378708c3f",
   "metadata": {},
   "outputs": [],
   "source": [
    "water_detection_timestamps = timestamps[combined_condition]"
   ]
  },
  {
   "cell_type": "code",
   "execution_count": 54,
   "id": "35838966-577d-4ea1-96bb-341f6d1c7302",
   "metadata": {},
   "outputs": [],
   "source": [
    "# # # # # # # # # # #"
   ]
  },
  {
   "cell_type": "code",
   "execution_count": null,
   "id": "52e935ee-7082-4fd5-84bf-b47fa9249dc4",
   "metadata": {},
   "outputs": [],
   "source": [
    "plt.figure(figsize=(12, 6))\n",
    "plt.plot(data['timestamp'], water_detect_flag, label='Water Detection Flag', color='blue', alpha=0.6)\n",
    "plt.plot(data['timestamp'], combined_condition, label='Analyzed Detection (Spectrometer + Voltage)', color='red', alpha=0.6)\n",
    "\n",
    "plt.title('Intersection of Water Detection Flag and Analyzed Detection')\n",
    "plt.xlabel('Timestamp')\n",
    "plt.ylabel('Detection (0 or 1)')\n",
    "plt.legend()\n",
    "plt.xticks(rotation=45)\n",
    "plt.grid(True)\n",
    "plt.show()"
   ]
  },
  {
   "cell_type": "code",
   "execution_count": null,
   "id": "2dd4b601-b760-4e8f-ba2b-948956d09607",
   "metadata": {},
   "outputs": [],
   "source": [
    "# # # # # # # # # # #"
   ]
  },
  {
   "cell_type": "code",
   "execution_count": null,
   "id": "77163a0d-716e-429c-ada1-6a8146e903b2",
   "metadata": {},
   "outputs": [],
   "source": [
    "plt.figure(figsize=(12, 6))\n",
    "plt.scatter(data['timestamp'], max_hist, label='Spectrometer Max Value', color='purple', alpha=0.6)\n",
    "plt.scatter(data['timestamp'][water_detect_flag == 1], max_hist[water_detect_flag == 1], color='orange', label='Detected Water Points', zorder=5)\n",
    "\n",
    "plt.axhline(y=spectrometer_threshold, color='r', linestyle='--', label='Spectrometer Threshold')\n",
    "plt.axhline(y=voltage_threshold, color='g', linestyle='--', label='Voltage Threshold')\n",
    "\n",
    "plt.title('Spectrometer Max Data vs Water Detection Flag')\n",
    "plt.xlabel('Timestamp')\n",
    "plt.ylabel('Normalized Spectrometer Max Value')\n",
    "plt.legend()\n",
    "plt.xticks(rotation=45)\n",
    "plt.grid(True)\n",
    "plt.show()"
   ]
  },
  {
   "cell_type": "code",
   "execution_count": 60,
   "id": "dcde928b-ab2b-4aad-9c64-e9abf0f4b671",
   "metadata": {},
   "outputs": [
    {
     "name": "stdout",
     "output_type": "stream",
     "text": [
      "Detected water at the following timestamps: [Timestamp('1970-01-01 00:00:03'), Timestamp('1970-01-01 00:00:15')]\n"
     ]
    }
   ],
   "source": [
    "print(f\"Detected water at the following timestamps: {list(water_detection_timestamps)}\")"
   ]
  }
 ],
 "metadata": {
  "kernelspec": {
   "display_name": "Python 3 (ipykernel)",
   "language": "python",
   "name": "python3"
  },
  "language_info": {
   "codemirror_mode": {
    "name": "ipython",
    "version": 3
   },
   "file_extension": ".py",
   "mimetype": "text/x-python",
   "name": "python",
   "nbconvert_exporter": "python",
   "pygments_lexer": "ipython3",
   "version": "3.13.2"
  }
 },
 "nbformat": 4,
 "nbformat_minor": 5
}
