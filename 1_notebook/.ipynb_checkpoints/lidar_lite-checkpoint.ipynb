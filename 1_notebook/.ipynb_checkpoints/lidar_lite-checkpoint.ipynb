{
 "cells": [
  {
   "cell_type": "code",
   "execution_count": 1,
   "id": "770a2a76-9f3c-49a0-824d-cb9a47bee0b9",
   "metadata": {},
   "outputs": [],
   "source": [
    "import pandas as pd"
   ]
  },
  {
   "cell_type": "code",
   "execution_count": 2,
   "id": "f8c1a008-35bd-4cf5-a1f4-e26b63079304",
   "metadata": {},
   "outputs": [],
   "source": [
    "import matplotlib.pyplot as plt"
   ]
  },
  {
   "cell_type": "code",
   "execution_count": 3,
   "id": "fa362dae-1894-4905-8349-1307c0af4200",
   "metadata": {},
   "outputs": [],
   "source": [
    "data = pd.read_csv('lidar_data.csv')"
   ]
  },
  {
   "cell_type": "code",
   "execution_count": 4,
   "id": "a275f070-c180-4b12-8f89-35793412d1a8",
   "metadata": {},
   "outputs": [
    {
     "name": "stdout",
     "output_type": "stream",
     "text": [
      "Index(['timestamp', 'packet-counter', 'lidar-lite-v3'], dtype='object')\n"
     ]
    }
   ],
   "source": [
    "print(data.columns)"
   ]
  },
  {
   "cell_type": "code",
   "execution_count": 5,
   "id": "fd55488b-c4e3-4595-b01d-43587510fa97",
   "metadata": {},
   "outputs": [],
   "source": [
    "data.dropna(subset=['lidar-lite-v3'], inplace=True)"
   ]
  },
  {
   "cell_type": "code",
   "execution_count": 6,
   "id": "fef1ba9c-a02e-4869-9975-d0f0210e3ee3",
   "metadata": {},
   "outputs": [],
   "source": [
    "data['timestamp'] = pd.to_datetime(data['timestamp'])"
   ]
  },
  {
   "cell_type": "code",
   "execution_count": 7,
   "id": "0e9cedc3-2ed3-4a48-92ba-57cfa91495d0",
   "metadata": {},
   "outputs": [
    {
     "name": "stdout",
     "output_type": "stream",
     "text": [
      "                        timestamp  packet-counter  lidar-lite-v3\n",
      "0   1970-01-01 00:00:01.741272849               0           8479\n",
      "1   1970-01-01 00:00:01.741272849               1           5388\n",
      "2   1970-01-01 00:00:01.741272849               2           6908\n",
      "3   1970-01-01 00:00:01.741272849               3           7188\n",
      "4   1970-01-01 00:00:01.741272849               4           9906\n",
      "..                            ...             ...            ...\n",
      "995 1970-01-01 00:00:01.741272849             995            912\n",
      "996 1970-01-01 00:00:01.741272849             996           7642\n",
      "997 1970-01-01 00:00:01.741272849             997           1385\n",
      "998 1970-01-01 00:00:01.741272849             998           3984\n",
      "999 1970-01-01 00:00:01.741272849             999           7225\n",
      "\n",
      "[1000 rows x 3 columns]\n"
     ]
    }
   ],
   "source": [
    "print(data)"
   ]
  },
  {
   "cell_type": "code",
   "execution_count": 8,
   "id": "c3d38fd3-3f47-4648-875d-be40316809ac",
   "metadata": {},
   "outputs": [],
   "source": [
    "lidar_data = data[['timestamp', 'packet-counter', 'lidar-lite-v3']]"
   ]
  },
  {
   "cell_type": "code",
   "execution_count": 9,
   "id": "e8b2c2af-801a-4fb6-87f2-8a0fffddf64f",
   "metadata": {},
   "outputs": [
    {
     "data": {
      "text/plain": [
       "count    1000.000000\n",
       "mean     4890.921000\n",
       "std      2842.254883\n",
       "min        31.000000\n",
       "25%      2475.500000\n",
       "50%      4893.500000\n",
       "75%      7177.500000\n",
       "max      9986.000000\n",
       "Name: lidar-lite-v3, dtype: float64"
      ]
     },
     "execution_count": 9,
     "metadata": {},
     "output_type": "execute_result"
    }
   ],
   "source": [
    "lidar_data['lidar-lite-v3'].describe()"
   ]
  },
  {
   "cell_type": "code",
   "execution_count": 10,
   "id": "733bf68a-8a18-40cf-9951-69105e0bdfb3",
   "metadata": {},
   "outputs": [
    {
     "name": "stdout",
     "output_type": "stream",
     "text": [
      "   Median  Mode\n",
      "0  4893.5  7518\n"
     ]
    }
   ],
   "source": [
    "lidar_med_and_mode = {\n",
    "    'Median': lidar_data['lidar-lite-v3'].median(),\n",
    "    'Mode': lidar_data['lidar-lite-v3'].mode()\n",
    "}\n",
    "\n",
    "medmode = pd.DataFrame(lidar_med_and_mode)\n",
    "print(medmode)"
   ]
  },
  {
   "cell_type": "code",
   "execution_count": 11,
   "id": "0e7392f2-622f-455d-b4f8-10ccffb22508",
   "metadata": {},
   "outputs": [],
   "source": [
    "lidar_filtered = lidar_data[(lidar_data['lidar-lite-v3'] > 1.52400 * 100) & (lidar_data['lidar-lite-v3'] < 6.09600 * 100)]"
   ]
  },
  {
   "cell_type": "code",
   "execution_count": 12,
   "id": "32f05973-0227-4d17-944a-1f08eae35343",
   "metadata": {},
   "outputs": [
    {
     "data": {
      "text/html": [
       "<div>\n",
       "<style scoped>\n",
       "    .dataframe tbody tr th:only-of-type {\n",
       "        vertical-align: middle;\n",
       "    }\n",
       "\n",
       "    .dataframe tbody tr th {\n",
       "        vertical-align: top;\n",
       "    }\n",
       "\n",
       "    .dataframe thead th {\n",
       "        text-align: right;\n",
       "    }\n",
       "</style>\n",
       "<table border=\"1\" class=\"dataframe\">\n",
       "  <thead>\n",
       "    <tr style=\"text-align: right;\">\n",
       "      <th></th>\n",
       "      <th>timestamp</th>\n",
       "      <th>packet-counter</th>\n",
       "      <th>lidar-lite-v3</th>\n",
       "    </tr>\n",
       "  </thead>\n",
       "  <tbody>\n",
       "    <tr>\n",
       "      <th>20</th>\n",
       "      <td>1970-01-01 00:00:01.741272849</td>\n",
       "      <td>20</td>\n",
       "      <td>578</td>\n",
       "    </tr>\n",
       "    <tr>\n",
       "      <th>58</th>\n",
       "      <td>1970-01-01 00:00:01.741272849</td>\n",
       "      <td>58</td>\n",
       "      <td>233</td>\n",
       "    </tr>\n",
       "    <tr>\n",
       "      <th>92</th>\n",
       "      <td>1970-01-01 00:00:01.741272849</td>\n",
       "      <td>92</td>\n",
       "      <td>354</td>\n",
       "    </tr>\n",
       "    <tr>\n",
       "      <th>96</th>\n",
       "      <td>1970-01-01 00:00:01.741272849</td>\n",
       "      <td>96</td>\n",
       "      <td>215</td>\n",
       "    </tr>\n",
       "    <tr>\n",
       "      <th>108</th>\n",
       "      <td>1970-01-01 00:00:01.741272849</td>\n",
       "      <td>108</td>\n",
       "      <td>298</td>\n",
       "    </tr>\n",
       "    <tr>\n",
       "      <th>123</th>\n",
       "      <td>1970-01-01 00:00:01.741272849</td>\n",
       "      <td>123</td>\n",
       "      <td>220</td>\n",
       "    </tr>\n",
       "    <tr>\n",
       "      <th>186</th>\n",
       "      <td>1970-01-01 00:00:01.741272849</td>\n",
       "      <td>186</td>\n",
       "      <td>244</td>\n",
       "    </tr>\n",
       "    <tr>\n",
       "      <th>191</th>\n",
       "      <td>1970-01-01 00:00:01.741272849</td>\n",
       "      <td>191</td>\n",
       "      <td>430</td>\n",
       "    </tr>\n",
       "    <tr>\n",
       "      <th>204</th>\n",
       "      <td>1970-01-01 00:00:01.741272849</td>\n",
       "      <td>204</td>\n",
       "      <td>375</td>\n",
       "    </tr>\n",
       "    <tr>\n",
       "      <th>242</th>\n",
       "      <td>1970-01-01 00:00:01.741272849</td>\n",
       "      <td>242</td>\n",
       "      <td>241</td>\n",
       "    </tr>\n",
       "    <tr>\n",
       "      <th>308</th>\n",
       "      <td>1970-01-01 00:00:01.741272849</td>\n",
       "      <td>308</td>\n",
       "      <td>553</td>\n",
       "    </tr>\n",
       "    <tr>\n",
       "      <th>360</th>\n",
       "      <td>1970-01-01 00:00:01.741272849</td>\n",
       "      <td>360</td>\n",
       "      <td>178</td>\n",
       "    </tr>\n",
       "    <tr>\n",
       "      <th>363</th>\n",
       "      <td>1970-01-01 00:00:01.741272849</td>\n",
       "      <td>363</td>\n",
       "      <td>380</td>\n",
       "    </tr>\n",
       "    <tr>\n",
       "      <th>387</th>\n",
       "      <td>1970-01-01 00:00:01.741272849</td>\n",
       "      <td>387</td>\n",
       "      <td>596</td>\n",
       "    </tr>\n",
       "    <tr>\n",
       "      <th>402</th>\n",
       "      <td>1970-01-01 00:00:01.741272849</td>\n",
       "      <td>402</td>\n",
       "      <td>154</td>\n",
       "    </tr>\n",
       "    <tr>\n",
       "      <th>408</th>\n",
       "      <td>1970-01-01 00:00:01.741272849</td>\n",
       "      <td>408</td>\n",
       "      <td>183</td>\n",
       "    </tr>\n",
       "    <tr>\n",
       "      <th>465</th>\n",
       "      <td>1970-01-01 00:00:01.741272849</td>\n",
       "      <td>465</td>\n",
       "      <td>176</td>\n",
       "    </tr>\n",
       "    <tr>\n",
       "      <th>470</th>\n",
       "      <td>1970-01-01 00:00:01.741272849</td>\n",
       "      <td>470</td>\n",
       "      <td>297</td>\n",
       "    </tr>\n",
       "    <tr>\n",
       "      <th>479</th>\n",
       "      <td>1970-01-01 00:00:01.741272849</td>\n",
       "      <td>479</td>\n",
       "      <td>176</td>\n",
       "    </tr>\n",
       "    <tr>\n",
       "      <th>493</th>\n",
       "      <td>1970-01-01 00:00:01.741272849</td>\n",
       "      <td>493</td>\n",
       "      <td>416</td>\n",
       "    </tr>\n",
       "    <tr>\n",
       "      <th>506</th>\n",
       "      <td>1970-01-01 00:00:01.741272849</td>\n",
       "      <td>506</td>\n",
       "      <td>344</td>\n",
       "    </tr>\n",
       "    <tr>\n",
       "      <th>513</th>\n",
       "      <td>1970-01-01 00:00:01.741272849</td>\n",
       "      <td>513</td>\n",
       "      <td>606</td>\n",
       "    </tr>\n",
       "    <tr>\n",
       "      <th>517</th>\n",
       "      <td>1970-01-01 00:00:01.741272849</td>\n",
       "      <td>517</td>\n",
       "      <td>602</td>\n",
       "    </tr>\n",
       "    <tr>\n",
       "      <th>526</th>\n",
       "      <td>1970-01-01 00:00:01.741272849</td>\n",
       "      <td>526</td>\n",
       "      <td>221</td>\n",
       "    </tr>\n",
       "    <tr>\n",
       "      <th>529</th>\n",
       "      <td>1970-01-01 00:00:01.741272849</td>\n",
       "      <td>529</td>\n",
       "      <td>390</td>\n",
       "    </tr>\n",
       "    <tr>\n",
       "      <th>542</th>\n",
       "      <td>1970-01-01 00:00:01.741272849</td>\n",
       "      <td>542</td>\n",
       "      <td>240</td>\n",
       "    </tr>\n",
       "    <tr>\n",
       "      <th>583</th>\n",
       "      <td>1970-01-01 00:00:01.741272849</td>\n",
       "      <td>583</td>\n",
       "      <td>160</td>\n",
       "    </tr>\n",
       "    <tr>\n",
       "      <th>591</th>\n",
       "      <td>1970-01-01 00:00:01.741272849</td>\n",
       "      <td>591</td>\n",
       "      <td>449</td>\n",
       "    </tr>\n",
       "    <tr>\n",
       "      <th>593</th>\n",
       "      <td>1970-01-01 00:00:01.741272849</td>\n",
       "      <td>593</td>\n",
       "      <td>245</td>\n",
       "    </tr>\n",
       "    <tr>\n",
       "      <th>594</th>\n",
       "      <td>1970-01-01 00:00:01.741272849</td>\n",
       "      <td>594</td>\n",
       "      <td>403</td>\n",
       "    </tr>\n",
       "    <tr>\n",
       "      <th>644</th>\n",
       "      <td>1970-01-01 00:00:01.741272849</td>\n",
       "      <td>644</td>\n",
       "      <td>424</td>\n",
       "    </tr>\n",
       "    <tr>\n",
       "      <th>717</th>\n",
       "      <td>1970-01-01 00:00:01.741272849</td>\n",
       "      <td>717</td>\n",
       "      <td>222</td>\n",
       "    </tr>\n",
       "    <tr>\n",
       "      <th>732</th>\n",
       "      <td>1970-01-01 00:00:01.741272849</td>\n",
       "      <td>732</td>\n",
       "      <td>177</td>\n",
       "    </tr>\n",
       "    <tr>\n",
       "      <th>744</th>\n",
       "      <td>1970-01-01 00:00:01.741272849</td>\n",
       "      <td>744</td>\n",
       "      <td>446</td>\n",
       "    </tr>\n",
       "    <tr>\n",
       "      <th>749</th>\n",
       "      <td>1970-01-01 00:00:01.741272849</td>\n",
       "      <td>749</td>\n",
       "      <td>246</td>\n",
       "    </tr>\n",
       "    <tr>\n",
       "      <th>758</th>\n",
       "      <td>1970-01-01 00:00:01.741272849</td>\n",
       "      <td>758</td>\n",
       "      <td>510</td>\n",
       "    </tr>\n",
       "    <tr>\n",
       "      <th>781</th>\n",
       "      <td>1970-01-01 00:00:01.741272849</td>\n",
       "      <td>781</td>\n",
       "      <td>247</td>\n",
       "    </tr>\n",
       "    <tr>\n",
       "      <th>807</th>\n",
       "      <td>1970-01-01 00:00:01.741272849</td>\n",
       "      <td>807</td>\n",
       "      <td>558</td>\n",
       "    </tr>\n",
       "    <tr>\n",
       "      <th>840</th>\n",
       "      <td>1970-01-01 00:00:01.741272849</td>\n",
       "      <td>840</td>\n",
       "      <td>505</td>\n",
       "    </tr>\n",
       "    <tr>\n",
       "      <th>891</th>\n",
       "      <td>1970-01-01 00:00:01.741272849</td>\n",
       "      <td>891</td>\n",
       "      <td>279</td>\n",
       "    </tr>\n",
       "    <tr>\n",
       "      <th>970</th>\n",
       "      <td>1970-01-01 00:00:01.741272849</td>\n",
       "      <td>970</td>\n",
       "      <td>576</td>\n",
       "    </tr>\n",
       "  </tbody>\n",
       "</table>\n",
       "</div>"
      ],
      "text/plain": [
       "                        timestamp  packet-counter  lidar-lite-v3\n",
       "20  1970-01-01 00:00:01.741272849              20            578\n",
       "58  1970-01-01 00:00:01.741272849              58            233\n",
       "92  1970-01-01 00:00:01.741272849              92            354\n",
       "96  1970-01-01 00:00:01.741272849              96            215\n",
       "108 1970-01-01 00:00:01.741272849             108            298\n",
       "123 1970-01-01 00:00:01.741272849             123            220\n",
       "186 1970-01-01 00:00:01.741272849             186            244\n",
       "191 1970-01-01 00:00:01.741272849             191            430\n",
       "204 1970-01-01 00:00:01.741272849             204            375\n",
       "242 1970-01-01 00:00:01.741272849             242            241\n",
       "308 1970-01-01 00:00:01.741272849             308            553\n",
       "360 1970-01-01 00:00:01.741272849             360            178\n",
       "363 1970-01-01 00:00:01.741272849             363            380\n",
       "387 1970-01-01 00:00:01.741272849             387            596\n",
       "402 1970-01-01 00:00:01.741272849             402            154\n",
       "408 1970-01-01 00:00:01.741272849             408            183\n",
       "465 1970-01-01 00:00:01.741272849             465            176\n",
       "470 1970-01-01 00:00:01.741272849             470            297\n",
       "479 1970-01-01 00:00:01.741272849             479            176\n",
       "493 1970-01-01 00:00:01.741272849             493            416\n",
       "506 1970-01-01 00:00:01.741272849             506            344\n",
       "513 1970-01-01 00:00:01.741272849             513            606\n",
       "517 1970-01-01 00:00:01.741272849             517            602\n",
       "526 1970-01-01 00:00:01.741272849             526            221\n",
       "529 1970-01-01 00:00:01.741272849             529            390\n",
       "542 1970-01-01 00:00:01.741272849             542            240\n",
       "583 1970-01-01 00:00:01.741272849             583            160\n",
       "591 1970-01-01 00:00:01.741272849             591            449\n",
       "593 1970-01-01 00:00:01.741272849             593            245\n",
       "594 1970-01-01 00:00:01.741272849             594            403\n",
       "644 1970-01-01 00:00:01.741272849             644            424\n",
       "717 1970-01-01 00:00:01.741272849             717            222\n",
       "732 1970-01-01 00:00:01.741272849             732            177\n",
       "744 1970-01-01 00:00:01.741272849             744            446\n",
       "749 1970-01-01 00:00:01.741272849             749            246\n",
       "758 1970-01-01 00:00:01.741272849             758            510\n",
       "781 1970-01-01 00:00:01.741272849             781            247\n",
       "807 1970-01-01 00:00:01.741272849             807            558\n",
       "840 1970-01-01 00:00:01.741272849             840            505\n",
       "891 1970-01-01 00:00:01.741272849             891            279\n",
       "970 1970-01-01 00:00:01.741272849             970            576"
      ]
     },
     "metadata": {},
     "output_type": "display_data"
    }
   ],
   "source": [
    "lidar_dataframe = pd.DataFrame(lidar_filtered)\n",
    "display(lidar_dataframe)"
   ]
  },
  {
   "cell_type": "code",
   "execution_count": 13,
   "id": "fcc32c1c-c96f-490d-8d1c-20e4a42b08ac",
   "metadata": {
    "scrolled": true
   },
   "outputs": [
    {
     "data": {
      "text/plain": [
       "Text(0, 0.5, 'Lidar Lite v3 Distance (m)')"
      ]
     },
     "execution_count": 13,
     "metadata": {},
     "output_type": "execute_result"
    },
    {
     "data": {
      "image/png": "[encoded data removed]",
      "text/plain": [
       "<Figure size 640x480 with 1 Axes>"
      ]
     },
     "metadata": {},
     "output_type": "display_data"
    }
   ],
   "source": [
    "plt.plot(lidar_filtered['packet-counter'], lidar_filtered['lidar-lite-v3'])\n",
    "\n",
    "for i in range(len(lidar_filtered)):\n",
    "    plt.text(lidar_filtered['packet-counter'].iloc[i], lidar_filtered['lidar-lite-v3'].iloc[i],\n",
    "             str(lidar_filtered['packet-counter'].iloc[i]), fontsize=7, color='red', ha='right')\n",
    "\n",
    "plt.xlabel('Packet Counter')\n",
    "plt.ylabel('Lidar Lite v3 Distance (m)')\n"
   ]
  },
  {
   "cell_type": "code",
   "execution_count": 1,
   "id": "e10d4ed3-a043-4857-8cb8-be7198d5e30e",
   "metadata": {},
   "outputs": [],
   "source": [
    "# - - - - - - - - - - - - - - -"
   ]
  }
 ],
 "metadata": {
  "kernelspec": {
   "display_name": "Python 3 (ipykernel)",
   "language": "python",
   "name": "python3"
  },
  "language_info": {
   "codemirror_mode": {
    "name": "ipython",
    "version": 3
   },
   "file_extension": ".py",
   "mimetype": "text/x-python",
   "name": "python",
   "nbconvert_exporter": "python",
   "pygments_lexer": "ipython3",
   "version": "3.12.9"
  }
 },
 "nbformat": 4,
 "nbformat_minor": 5
}
