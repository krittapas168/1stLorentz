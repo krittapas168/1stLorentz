{
 "cells": [
  {
   "cell_type": "code",
   "execution_count": 9,
   "id": "770a2a76-9f3c-49a0-824d-cb9a47bee0b9",
   "metadata": {},
   "outputs": [],
   "source": [
    "import pandas as pd"
   ]
  },
  {
   "cell_type": "code",
   "execution_count": 10,
   "id": "f8c1a008-35bd-4cf5-a1f4-e26b63079304",
   "metadata": {},
   "outputs": [],
   "source": [
    "import matplotlib.pyplot as plt"
   ]
  },
  {
   "cell_type": "code",
   "execution_count": 12,
   "id": "fa362dae-1894-4905-8349-1307c0af4200",
   "metadata": {},
   "outputs": [],
   "source": [
    "data = pd.read_csv('../telemetry_logs/data_telemetry_device0_3.csv')"
   ]
  },
  {
   "cell_type": "code",
   "execution_count": 13,
   "id": "a275f070-c180-4b12-8f89-35793412d1a8",
   "metadata": {},
   "outputs": [
    {
     "name": "stdout",
     "output_type": "stream",
     "text": [
      "Index(['packet-counter', 'timestamp', 'lidar-lite-v3', 'latitude', 'longitude',\n",
      "       'altitude', 'accelerometer', 'velocity', 'spectrometer-water-detect',\n",
      "       'spectrometer-voltage', 'spectrometer_spectrometer1',\n",
      "       'spectrometer_spectrometer2', 'spectrometer_spectrometer3',\n",
      "       'spectrometer_spectrometer4', 'spectrometer_spectrometer5'],\n",
      "      dtype='object')\n"
     ]
    }
   ],
   "source": [
    "print(data.columns)"
   ]
  },
  {
   "cell_type": "code",
   "execution_count": 14,
   "id": "fd55488b-c4e3-4595-b01d-43587510fa97",
   "metadata": {},
   "outputs": [],
   "source": [
    "data.dropna(subset=['lidar-lite-v3'], inplace=True)"
   ]
  },
  {
   "cell_type": "code",
   "execution_count": 15,
   "id": "fef1ba9c-a02e-4869-9975-d0f0210e3ee3",
   "metadata": {},
   "outputs": [],
   "source": [
    "data['timestamp'] = pd.to_datetime(data['timestamp'])"
   ]
  },
  {
   "cell_type": "code",
   "execution_count": 16,
   "id": "0e9cedc3-2ed3-4a48-92ba-57cfa91495d0",
   "metadata": {},
   "outputs": [
    {
     "data": {
      "text/html": [
       "<div>\n",
       "<style scoped>\n",
       "    .dataframe tbody tr th:only-of-type {\n",
       "        vertical-align: middle;\n",
       "    }\n",
       "\n",
       "    .dataframe tbody tr th {\n",
       "        vertical-align: top;\n",
       "    }\n",
       "\n",
       "    .dataframe thead th {\n",
       "        text-align: right;\n",
       "    }\n",
       "</style>\n",
       "<table border=\"1\" class=\"dataframe\">\n",
       "  <thead>\n",
       "    <tr style=\"text-align: right;\">\n",
       "      <th></th>\n",
       "      <th>packet-counter</th>\n",
       "      <th>timestamp</th>\n",
       "      <th>lidar-lite-v3</th>\n",
       "      <th>latitude</th>\n",
       "      <th>longitude</th>\n",
       "      <th>altitude</th>\n",
       "      <th>accelerometer</th>\n",
       "      <th>velocity</th>\n",
       "      <th>spectrometer-water-detect</th>\n",
       "      <th>spectrometer-voltage</th>\n",
       "      <th>spectrometer_spectrometer1</th>\n",
       "      <th>spectrometer_spectrometer2</th>\n",
       "      <th>spectrometer_spectrometer3</th>\n",
       "      <th>spectrometer_spectrometer4</th>\n",
       "      <th>spectrometer_spectrometer5</th>\n",
       "    </tr>\n",
       "  </thead>\n",
       "  <tbody>\n",
       "    <tr>\n",
       "      <th>count</th>\n",
       "      <td>2.000000e+00</td>\n",
       "      <td>2</td>\n",
       "      <td>2.000000</td>\n",
       "      <td>2.000000</td>\n",
       "      <td>2.000000</td>\n",
       "      <td>2.000000</td>\n",
       "      <td>2.000000</td>\n",
       "      <td>2.000000</td>\n",
       "      <td>2.0</td>\n",
       "      <td>2.000000</td>\n",
       "      <td>2.000000</td>\n",
       "      <td>2.000000</td>\n",
       "      <td>2.000000</td>\n",
       "      <td>2.000000</td>\n",
       "      <td>2.000000</td>\n",
       "    </tr>\n",
       "    <tr>\n",
       "      <th>mean</th>\n",
       "      <td>2.025203e+13</td>\n",
       "      <td>1970-01-01 00:00:00.000000009</td>\n",
       "      <td>14.000000</td>\n",
       "      <td>2.500000</td>\n",
       "      <td>9.500000</td>\n",
       "      <td>13.000000</td>\n",
       "      <td>15.500000</td>\n",
       "      <td>11.000000</td>\n",
       "      <td>3.0</td>\n",
       "      <td>12.500000</td>\n",
       "      <td>6.500000</td>\n",
       "      <td>8.000000</td>\n",
       "      <td>14.500000</td>\n",
       "      <td>10.500000</td>\n",
       "      <td>9.000000</td>\n",
       "    </tr>\n",
       "    <tr>\n",
       "      <th>min</th>\n",
       "      <td>2.025203e+13</td>\n",
       "      <td>1970-01-01 00:00:00.000000003</td>\n",
       "      <td>13.000000</td>\n",
       "      <td>2.000000</td>\n",
       "      <td>4.000000</td>\n",
       "      <td>12.000000</td>\n",
       "      <td>15.000000</td>\n",
       "      <td>6.000000</td>\n",
       "      <td>3.0</td>\n",
       "      <td>12.000000</td>\n",
       "      <td>6.000000</td>\n",
       "      <td>6.000000</td>\n",
       "      <td>14.000000</td>\n",
       "      <td>10.000000</td>\n",
       "      <td>2.000000</td>\n",
       "    </tr>\n",
       "    <tr>\n",
       "      <th>25%</th>\n",
       "      <td>2.025203e+13</td>\n",
       "      <td>1970-01-01 00:00:00.000000006</td>\n",
       "      <td>13.500000</td>\n",
       "      <td>2.250000</td>\n",
       "      <td>6.750000</td>\n",
       "      <td>12.500000</td>\n",
       "      <td>15.250000</td>\n",
       "      <td>8.500000</td>\n",
       "      <td>3.0</td>\n",
       "      <td>12.250000</td>\n",
       "      <td>6.250000</td>\n",
       "      <td>7.000000</td>\n",
       "      <td>14.250000</td>\n",
       "      <td>10.250000</td>\n",
       "      <td>5.500000</td>\n",
       "    </tr>\n",
       "    <tr>\n",
       "      <th>50%</th>\n",
       "      <td>2.025203e+13</td>\n",
       "      <td>1970-01-01 00:00:00.000000009</td>\n",
       "      <td>14.000000</td>\n",
       "      <td>2.500000</td>\n",
       "      <td>9.500000</td>\n",
       "      <td>13.000000</td>\n",
       "      <td>15.500000</td>\n",
       "      <td>11.000000</td>\n",
       "      <td>3.0</td>\n",
       "      <td>12.500000</td>\n",
       "      <td>6.500000</td>\n",
       "      <td>8.000000</td>\n",
       "      <td>14.500000</td>\n",
       "      <td>10.500000</td>\n",
       "      <td>9.000000</td>\n",
       "    </tr>\n",
       "    <tr>\n",
       "      <th>75%</th>\n",
       "      <td>2.025203e+13</td>\n",
       "      <td>1970-01-01 00:00:00.000000012</td>\n",
       "      <td>14.500000</td>\n",
       "      <td>2.750000</td>\n",
       "      <td>12.250000</td>\n",
       "      <td>13.500000</td>\n",
       "      <td>15.750000</td>\n",
       "      <td>13.500000</td>\n",
       "      <td>3.0</td>\n",
       "      <td>12.750000</td>\n",
       "      <td>6.750000</td>\n",
       "      <td>9.000000</td>\n",
       "      <td>14.750000</td>\n",
       "      <td>10.750000</td>\n",
       "      <td>12.500000</td>\n",
       "    </tr>\n",
       "    <tr>\n",
       "      <th>max</th>\n",
       "      <td>2.025203e+13</td>\n",
       "      <td>1970-01-01 00:00:00.000000015</td>\n",
       "      <td>15.000000</td>\n",
       "      <td>3.000000</td>\n",
       "      <td>15.000000</td>\n",
       "      <td>14.000000</td>\n",
       "      <td>16.000000</td>\n",
       "      <td>16.000000</td>\n",
       "      <td>3.0</td>\n",
       "      <td>13.000000</td>\n",
       "      <td>7.000000</td>\n",
       "      <td>10.000000</td>\n",
       "      <td>15.000000</td>\n",
       "      <td>11.000000</td>\n",
       "      <td>16.000000</td>\n",
       "    </tr>\n",
       "    <tr>\n",
       "      <th>std</th>\n",
       "      <td>0.000000e+00</td>\n",
       "      <td>NaN</td>\n",
       "      <td>1.414214</td>\n",
       "      <td>0.707107</td>\n",
       "      <td>7.778175</td>\n",
       "      <td>1.414214</td>\n",
       "      <td>0.707107</td>\n",
       "      <td>7.071068</td>\n",
       "      <td>0.0</td>\n",
       "      <td>0.707107</td>\n",
       "      <td>0.707107</td>\n",
       "      <td>2.828427</td>\n",
       "      <td>0.707107</td>\n",
       "      <td>0.707107</td>\n",
       "      <td>9.899495</td>\n",
       "    </tr>\n",
       "  </tbody>\n",
       "</table>\n",
       "</div>"
      ],
      "text/plain": [
       "       packet-counter                      timestamp  lidar-lite-v3  latitude  \\\n",
       "count    2.000000e+00                              2       2.000000  2.000000   \n",
       "mean     2.025203e+13  1970-01-01 00:00:00.000000009      14.000000  2.500000   \n",
       "min      2.025203e+13  1970-01-01 00:00:00.000000003      13.000000  2.000000   \n",
       "25%      2.025203e+13  1970-01-01 00:00:00.000000006      13.500000  2.250000   \n",
       "50%      2.025203e+13  1970-01-01 00:00:00.000000009      14.000000  2.500000   \n",
       "75%      2.025203e+13  1970-01-01 00:00:00.000000012      14.500000  2.750000   \n",
       "max      2.025203e+13  1970-01-01 00:00:00.000000015      15.000000  3.000000   \n",
       "std      0.000000e+00                            NaN       1.414214  0.707107   \n",
       "\n",
       "       longitude   altitude  accelerometer   velocity  \\\n",
       "count   2.000000   2.000000       2.000000   2.000000   \n",
       "mean    9.500000  13.000000      15.500000  11.000000   \n",
       "min     4.000000  12.000000      15.000000   6.000000   \n",
       "25%     6.750000  12.500000      15.250000   8.500000   \n",
       "50%     9.500000  13.000000      15.500000  11.000000   \n",
       "75%    12.250000  13.500000      15.750000  13.500000   \n",
       "max    15.000000  14.000000      16.000000  16.000000   \n",
       "std     7.778175   1.414214       0.707107   7.071068   \n",
       "\n",
       "       spectrometer-water-detect  spectrometer-voltage  \\\n",
       "count                        2.0              2.000000   \n",
       "mean                         3.0             12.500000   \n",
       "min                          3.0             12.000000   \n",
       "25%                          3.0             12.250000   \n",
       "50%                          3.0             12.500000   \n",
       "75%                          3.0             12.750000   \n",
       "max                          3.0             13.000000   \n",
       "std                          0.0              0.707107   \n",
       "\n",
       "       spectrometer_spectrometer1  spectrometer_spectrometer2  \\\n",
       "count                    2.000000                    2.000000   \n",
       "mean                     6.500000                    8.000000   \n",
       "min                      6.000000                    6.000000   \n",
       "25%                      6.250000                    7.000000   \n",
       "50%                      6.500000                    8.000000   \n",
       "75%                      6.750000                    9.000000   \n",
       "max                      7.000000                   10.000000   \n",
       "std                      0.707107                    2.828427   \n",
       "\n",
       "       spectrometer_spectrometer3  spectrometer_spectrometer4  \\\n",
       "count                    2.000000                    2.000000   \n",
       "mean                    14.500000                   10.500000   \n",
       "min                     14.000000                   10.000000   \n",
       "25%                     14.250000                   10.250000   \n",
       "50%                     14.500000                   10.500000   \n",
       "75%                     14.750000                   10.750000   \n",
       "max                     15.000000                   11.000000   \n",
       "std                      0.707107                    0.707107   \n",
       "\n",
       "       spectrometer_spectrometer5  \n",
       "count                    2.000000  \n",
       "mean                     9.000000  \n",
       "min                      2.000000  \n",
       "25%                      5.500000  \n",
       "50%                      9.000000  \n",
       "75%                     12.500000  \n",
       "max                     16.000000  \n",
       "std                      9.899495  "
      ]
     },
     "execution_count": 16,
     "metadata": {},
     "output_type": "execute_result"
    }
   ],
   "source": [
    "data.describe()"
   ]
  },
  {
   "cell_type": "code",
   "execution_count": 17,
   "id": "c3d38fd3-3f47-4648-875d-be40316809ac",
   "metadata": {},
   "outputs": [],
   "source": [
    "lidar_data = data[['timestamp', 'packet-counter', 'lidar-lite-v3']]"
   ]
  },
  {
   "cell_type": "code",
   "execution_count": 18,
   "id": "e8b2c2af-801a-4fb6-87f2-8a0fffddf64f",
   "metadata": {},
   "outputs": [
    {
     "data": {
      "text/plain": [
       "count     2.000000\n",
       "mean     14.000000\n",
       "std       1.414214\n",
       "min      13.000000\n",
       "25%      13.500000\n",
       "50%      14.000000\n",
       "75%      14.500000\n",
       "max      15.000000\n",
       "Name: lidar-lite-v3, dtype: float64"
      ]
     },
     "execution_count": 18,
     "metadata": {},
     "output_type": "execute_result"
    }
   ],
   "source": [
    "lidar_data['lidar-lite-v3'].describe()"
   ]
  },
  {
   "cell_type": "code",
   "execution_count": 19,
   "id": "733bf68a-8a18-40cf-9951-69105e0bdfb3",
   "metadata": {},
   "outputs": [
    {
     "name": "stdout",
     "output_type": "stream",
     "text": [
      "   Median  Mode\n",
      "0    14.0  13.0\n",
      "1    14.0  15.0\n"
     ]
    }
   ],
   "source": [
    "lidar_med_and_mode = {\n",
    "    'Median': lidar_data['lidar-lite-v3'].median(),\n",
    "    'Mode': lidar_data['lidar-lite-v3'].mode()\n",
    "}\n",
    "\n",
    "medmode = pd.DataFrame(lidar_med_and_mode)\n",
    "print(medmode)"
   ]
  },
  {
   "cell_type": "code",
   "execution_count": 20,
   "id": "0e7392f2-622f-455d-b4f8-10ccffb22508",
   "metadata": {},
   "outputs": [],
   "source": [
    "lidar_filtered = lidar_data[(lidar_data['lidar-lite-v3'] > 1.52400 * 100) & (lidar_data['lidar-lite-v3'] < 6.09600 * 100)]"
   ]
  },
  {
   "cell_type": "code",
   "execution_count": 21,
   "id": "32f05973-0227-4d17-944a-1f08eae35343",
   "metadata": {},
   "outputs": [
    {
     "data": {
      "text/html": [
       "<div>\n",
       "<style scoped>\n",
       "    .dataframe tbody tr th:only-of-type {\n",
       "        vertical-align: middle;\n",
       "    }\n",
       "\n",
       "    .dataframe tbody tr th {\n",
       "        vertical-align: top;\n",
       "    }\n",
       "\n",
       "    .dataframe thead th {\n",
       "        text-align: right;\n",
       "    }\n",
       "</style>\n",
       "<table border=\"1\" class=\"dataframe\">\n",
       "  <thead>\n",
       "    <tr style=\"text-align: right;\">\n",
       "      <th></th>\n",
       "      <th>timestamp</th>\n",
       "      <th>packet-counter</th>\n",
       "      <th>lidar-lite-v3</th>\n",
       "    </tr>\n",
       "  </thead>\n",
       "  <tbody>\n",
       "  </tbody>\n",
       "</table>\n",
       "</div>"
      ],
      "text/plain": [
       "Empty DataFrame\n",
       "Columns: [timestamp, packet-counter, lidar-lite-v3]\n",
       "Index: []"
      ]
     },
     "metadata": {},
     "output_type": "display_data"
    }
   ],
   "source": [
    "lidar_dataframe = pd.DataFrame(lidar_filtered)\n",
    "display(lidar_dataframe)"
   ]
  },
  {
   "cell_type": "code",
   "execution_count": 23,
   "id": "fcc32c1c-c96f-490d-8d1c-20e4a42b08ac",
   "metadata": {},
   "outputs": [
    {
     "data": {
      "text/plain": [
       "Text(0, 0.5, 'Lidar Lite v3 Distance (m)')"
      ]
     },
     "execution_count": 23,
     "metadata": {},
     "output_type": "execute_result"
    },
    {
     "data": {
      "image/png": "[encoded data removed]",
      "text/plain": [
       "<Figure size 640x480 with 1 Axes>"
      ]
     },
     "metadata": {},
     "output_type": "display_data"
    }
   ],
   "source": [
    "plt.plot(lidar_filtered['packet-counter'], lidar_filtered['lidar-lite-v3'])\n",
    "\n",
    "for i in range(len(lidar_filtered)):\n",
    "    plt.text(lidar_filtered['packet-counter'].iloc[i], lidar_filtered['lidar-lite-v3'].iloc[i],\n",
    "             str(lidar_filtered['packet-counter'].iloc[i]), fontsize=7, color='red', ha='right')\n",
    "\n",
    "plt.xlabel('Packet Counter')\n",
    "plt.ylabel('Lidar Lite v3 Distance (m)')"
   ]
  },
  {
   "cell_type": "code",
   "execution_count": 1,
   "id": "e10d4ed3-a043-4857-8cb8-be7198d5e30e",
   "metadata": {},
   "outputs": [],
   "source": [
    "# - - - - - - - - - - - - - - -"
   ]
  }
 ],
 "metadata": {
  "kernelspec": {
   "display_name": "Python 3 (ipykernel)",
   "language": "python",
   "name": "python3"
  },
  "language_info": {
   "codemirror_mode": {
    "name": "ipython",
    "version": 3
   },
   "file_extension": ".py",
   "mimetype": "text/x-python",
   "name": "python",
   "nbconvert_exporter": "python",
   "pygments_lexer": "ipython3",
   "version": "3.13.2"
  }
 },
 "nbformat": 4,
 "nbformat_minor": 5
}
