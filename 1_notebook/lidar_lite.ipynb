{
 "cells": [
  {
   "cell_type": "code",
   "execution_count": 7,
   "id": "770a2a76-9f3c-49a0-824d-cb9a47bee0b9",
   "metadata": {},
   "outputs": [],
   "source": [
    "import pandas as pd"
   ]
  },
  {
   "cell_type": "code",
   "execution_count": 8,
   "id": "f8c1a008-35bd-4cf5-a1f4-e26b63079304",
   "metadata": {},
   "outputs": [],
   "source": [
    "import matplotlib.pyplot as plt"
   ]
  },
  {
   "cell_type": "code",
   "execution_count": 9,
   "id": "fa362dae-1894-4905-8349-1307c0af4200",
   "metadata": {},
   "outputs": [],
   "source": [
    "data = pd.read_csv('../telemetry_logs/data_telemetry_device0_0.csv')"
   ]
  },
  {
   "cell_type": "code",
   "execution_count": 10,
   "id": "a275f070-c180-4b12-8f89-35793412d1a8",
   "metadata": {},
   "outputs": [
    {
     "name": "stdout",
     "output_type": "stream",
     "text": [
      "Index(['timestamp', 'packet-counter', 'lidar-lite-v3', 'spectrometer-voltage',\n",
      "       'latitude', 'longitude', 'altitude', 'accelerometer',\n",
      "       'spectrometer_spectrometer1', 'spectrometer_spectrometer2',\n",
      "       'spectrometer_spectrometer3', 'spectrometer_spectrometer4',\n",
      "       'spectrometer_spectrometer5', 'spectrometer_spectrometer6'],\n",
      "      dtype='object')\n"
     ]
    }
   ],
   "source": [
    "print(data.columns)"
   ]
  },
  {
   "cell_type": "code",
   "execution_count": 11,
   "id": "fd55488b-c4e3-4595-b01d-43587510fa97",
   "metadata": {},
   "outputs": [],
   "source": [
    "data.dropna(subset=['lidar-lite-v3'], inplace=True)"
   ]
  },
  {
   "cell_type": "code",
   "execution_count": 12,
   "id": "fef1ba9c-a02e-4869-9975-d0f0210e3ee3",
   "metadata": {},
   "outputs": [],
   "source": [
    "data['timestamp'] = pd.to_datetime(data['timestamp'])"
   ]
  },
  {
   "cell_type": "code",
   "execution_count": 16,
   "id": "0e9cedc3-2ed3-4a48-92ba-57cfa91495d0",
   "metadata": {},
   "outputs": [
    {
     "data": {
      "text/html": [
       "<div>\n",
       "<style scoped>\n",
       "    .dataframe tbody tr th:only-of-type {\n",
       "        vertical-align: middle;\n",
       "    }\n",
       "\n",
       "    .dataframe tbody tr th {\n",
       "        vertical-align: top;\n",
       "    }\n",
       "\n",
       "    .dataframe thead th {\n",
       "        text-align: right;\n",
       "    }\n",
       "</style>\n",
       "<table border=\"1\" class=\"dataframe\">\n",
       "  <thead>\n",
       "    <tr style=\"text-align: right;\">\n",
       "      <th></th>\n",
       "      <th>timestamp</th>\n",
       "      <th>packet-counter</th>\n",
       "      <th>lidar-lite-v3</th>\n",
       "      <th>spectrometer-voltage</th>\n",
       "      <th>latitude</th>\n",
       "      <th>longitude</th>\n",
       "      <th>altitude</th>\n",
       "      <th>accelerometer</th>\n",
       "      <th>spectrometer_spectrometer1</th>\n",
       "      <th>spectrometer_spectrometer2</th>\n",
       "      <th>spectrometer_spectrometer3</th>\n",
       "      <th>spectrometer_spectrometer4</th>\n",
       "      <th>spectrometer_spectrometer5</th>\n",
       "      <th>spectrometer_spectrometer6</th>\n",
       "    </tr>\n",
       "  </thead>\n",
       "  <tbody>\n",
       "    <tr>\n",
       "      <th>count</th>\n",
       "      <td>6</td>\n",
       "      <td>6.000000</td>\n",
       "      <td>6.000000</td>\n",
       "      <td>6.000000</td>\n",
       "      <td>6.000000</td>\n",
       "      <td>6.000000</td>\n",
       "      <td>6.0</td>\n",
       "      <td>6.000000</td>\n",
       "      <td>6.000000</td>\n",
       "      <td>6.000000</td>\n",
       "      <td>6.000000</td>\n",
       "      <td>6.000000</td>\n",
       "      <td>6.000000</td>\n",
       "      <td>6.000000</td>\n",
       "    </tr>\n",
       "    <tr>\n",
       "      <th>mean</th>\n",
       "      <td>2025-03-09 18:11:51.166666752</td>\n",
       "      <td>5.500000</td>\n",
       "      <td>145.166667</td>\n",
       "      <td>3.328333</td>\n",
       "      <td>34.711277</td>\n",
       "      <td>-86.641055</td>\n",
       "      <td>250.0</td>\n",
       "      <td>0.233833</td>\n",
       "      <td>-0.266833</td>\n",
       "      <td>0.221333</td>\n",
       "      <td>4114.833333</td>\n",
       "      <td>6927.500000</td>\n",
       "      <td>4858.500000</td>\n",
       "      <td>4076.166667</td>\n",
       "    </tr>\n",
       "    <tr>\n",
       "      <th>min</th>\n",
       "      <td>2025-03-09 18:11:46</td>\n",
       "      <td>1.000000</td>\n",
       "      <td>55.000000</td>\n",
       "      <td>2.350000</td>\n",
       "      <td>34.710922</td>\n",
       "      <td>-86.641471</td>\n",
       "      <td>250.0</td>\n",
       "      <td>-0.500000</td>\n",
       "      <td>-0.935000</td>\n",
       "      <td>-0.522000</td>\n",
       "      <td>1076.000000</td>\n",
       "      <td>3713.000000</td>\n",
       "      <td>836.000000</td>\n",
       "      <td>1006.000000</td>\n",
       "    </tr>\n",
       "    <tr>\n",
       "      <th>25%</th>\n",
       "      <td>2025-03-09 18:11:47.249999872</td>\n",
       "      <td>2.250000</td>\n",
       "      <td>87.000000</td>\n",
       "      <td>2.675000</td>\n",
       "      <td>34.711039</td>\n",
       "      <td>-86.641101</td>\n",
       "      <td>250.0</td>\n",
       "      <td>-0.038750</td>\n",
       "      <td>-0.653500</td>\n",
       "      <td>0.012250</td>\n",
       "      <td>1823.750000</td>\n",
       "      <td>6224.750000</td>\n",
       "      <td>2137.750000</td>\n",
       "      <td>2511.250000</td>\n",
       "    </tr>\n",
       "    <tr>\n",
       "      <th>50%</th>\n",
       "      <td>2025-03-09 18:11:51.500000</td>\n",
       "      <td>5.500000</td>\n",
       "      <td>143.000000</td>\n",
       "      <td>3.390000</td>\n",
       "      <td>34.711303</td>\n",
       "      <td>-86.641060</td>\n",
       "      <td>250.0</td>\n",
       "      <td>0.292500</td>\n",
       "      <td>-0.487500</td>\n",
       "      <td>0.100000</td>\n",
       "      <td>4363.500000</td>\n",
       "      <td>7304.500000</td>\n",
       "      <td>4174.500000</td>\n",
       "      <td>3607.500000</td>\n",
       "    </tr>\n",
       "    <tr>\n",
       "      <th>75%</th>\n",
       "      <td>2025-03-09 18:11:55</td>\n",
       "      <td>8.750000</td>\n",
       "      <td>185.500000</td>\n",
       "      <td>3.467500</td>\n",
       "      <td>34.711467</td>\n",
       "      <td>-86.640909</td>\n",
       "      <td>250.0</td>\n",
       "      <td>0.634250</td>\n",
       "      <td>0.121750</td>\n",
       "      <td>0.550750</td>\n",
       "      <td>4991.500000</td>\n",
       "      <td>7854.000000</td>\n",
       "      <td>7634.750000</td>\n",
       "      <td>4955.000000</td>\n",
       "    </tr>\n",
       "    <tr>\n",
       "      <th>max</th>\n",
       "      <td>2025-03-09 18:11:56</td>\n",
       "      <td>10.000000</td>\n",
       "      <td>262.000000</td>\n",
       "      <td>4.910000</td>\n",
       "      <td>34.711658</td>\n",
       "      <td>-86.640769</td>\n",
       "      <td>250.0</td>\n",
       "      <td>0.719000</td>\n",
       "      <td>0.693000</td>\n",
       "      <td>0.966000</td>\n",
       "      <td>8708.000000</td>\n",
       "      <td>9341.000000</td>\n",
       "      <td>9719.000000</td>\n",
       "      <td>8686.000000</td>\n",
       "    </tr>\n",
       "    <tr>\n",
       "      <th>std</th>\n",
       "      <td>NaN</td>\n",
       "      <td>3.937004</td>\n",
       "      <td>77.821377</td>\n",
       "      <td>0.921985</td>\n",
       "      <td>0.000291</td>\n",
       "      <td>0.000242</td>\n",
       "      <td>0.0</td>\n",
       "      <td>0.479978</td>\n",
       "      <td>0.625651</td>\n",
       "      <td>0.528937</td>\n",
       "      <td>2855.373070</td>\n",
       "      <td>1933.391192</td>\n",
       "      <td>3620.417034</td>\n",
       "      <td>2696.281470</td>\n",
       "    </tr>\n",
       "  </tbody>\n",
       "</table>\n",
       "</div>"
      ],
      "text/plain": [
       "                           timestamp  packet-counter  lidar-lite-v3  \\\n",
       "count                              6        6.000000       6.000000   \n",
       "mean   2025-03-09 18:11:51.166666752        5.500000     145.166667   \n",
       "min              2025-03-09 18:11:46        1.000000      55.000000   \n",
       "25%    2025-03-09 18:11:47.249999872        2.250000      87.000000   \n",
       "50%       2025-03-09 18:11:51.500000        5.500000     143.000000   \n",
       "75%              2025-03-09 18:11:55        8.750000     185.500000   \n",
       "max              2025-03-09 18:11:56       10.000000     262.000000   \n",
       "std                              NaN        3.937004      77.821377   \n",
       "\n",
       "       spectrometer-voltage   latitude  longitude  altitude  accelerometer  \\\n",
       "count              6.000000   6.000000   6.000000       6.0       6.000000   \n",
       "mean               3.328333  34.711277 -86.641055     250.0       0.233833   \n",
       "min                2.350000  34.710922 -86.641471     250.0      -0.500000   \n",
       "25%                2.675000  34.711039 -86.641101     250.0      -0.038750   \n",
       "50%                3.390000  34.711303 -86.641060     250.0       0.292500   \n",
       "75%                3.467500  34.711467 -86.640909     250.0       0.634250   \n",
       "max                4.910000  34.711658 -86.640769     250.0       0.719000   \n",
       "std                0.921985   0.000291   0.000242       0.0       0.479978   \n",
       "\n",
       "       spectrometer_spectrometer1  spectrometer_spectrometer2  \\\n",
       "count                    6.000000                    6.000000   \n",
       "mean                    -0.266833                    0.221333   \n",
       "min                     -0.935000                   -0.522000   \n",
       "25%                     -0.653500                    0.012250   \n",
       "50%                     -0.487500                    0.100000   \n",
       "75%                      0.121750                    0.550750   \n",
       "max                      0.693000                    0.966000   \n",
       "std                      0.625651                    0.528937   \n",
       "\n",
       "       spectrometer_spectrometer3  spectrometer_spectrometer4  \\\n",
       "count                    6.000000                    6.000000   \n",
       "mean                  4114.833333                 6927.500000   \n",
       "min                   1076.000000                 3713.000000   \n",
       "25%                   1823.750000                 6224.750000   \n",
       "50%                   4363.500000                 7304.500000   \n",
       "75%                   4991.500000                 7854.000000   \n",
       "max                   8708.000000                 9341.000000   \n",
       "std                   2855.373070                 1933.391192   \n",
       "\n",
       "       spectrometer_spectrometer5  spectrometer_spectrometer6  \n",
       "count                    6.000000                    6.000000  \n",
       "mean                  4858.500000                 4076.166667  \n",
       "min                    836.000000                 1006.000000  \n",
       "25%                   2137.750000                 2511.250000  \n",
       "50%                   4174.500000                 3607.500000  \n",
       "75%                   7634.750000                 4955.000000  \n",
       "max                   9719.000000                 8686.000000  \n",
       "std                   3620.417034                 2696.281470  "
      ]
     },
     "execution_count": 16,
     "metadata": {},
     "output_type": "execute_result"
    }
   ],
   "source": [
    "data.describe()"
   ]
  },
  {
   "cell_type": "code",
   "execution_count": 14,
   "id": "c3d38fd3-3f47-4648-875d-be40316809ac",
   "metadata": {},
   "outputs": [],
   "source": [
    "lidar_data = data[['timestamp', 'packet-counter', 'lidar-lite-v3']]"
   ]
  },
  {
   "cell_type": "code",
   "execution_count": 17,
   "id": "e8b2c2af-801a-4fb6-87f2-8a0fffddf64f",
   "metadata": {},
   "outputs": [
    {
     "data": {
      "text/plain": [
       "count      6.000000\n",
       "mean     145.166667\n",
       "std       77.821377\n",
       "min       55.000000\n",
       "25%       87.000000\n",
       "50%      143.000000\n",
       "75%      185.500000\n",
       "max      262.000000\n",
       "Name: lidar-lite-v3, dtype: float64"
      ]
     },
     "execution_count": 17,
     "metadata": {},
     "output_type": "execute_result"
    }
   ],
   "source": [
    "lidar_data['lidar-lite-v3'].describe()"
   ]
  },
  {
   "cell_type": "code",
   "execution_count": 21,
   "id": "733bf68a-8a18-40cf-9951-69105e0bdfb3",
   "metadata": {},
   "outputs": [
    {
     "name": "stdout",
     "output_type": "stream",
     "text": [
      "   Median   Mode\n",
      "0   143.0   55.0\n",
      "1   143.0   70.0\n",
      "2   143.0  138.0\n",
      "3   143.0  148.0\n",
      "4   143.0  198.0\n",
      "5   143.0  262.0\n"
     ]
    }
   ],
   "source": [
    "lidar_med_and_mode = {\n",
    "    'Median': lidar_data['lidar-lite-v3'].median(),\n",
    "    'Mode': lidar_data['lidar-lite-v3'].mode()\n",
    "}\n",
    "\n",
    "medmode = pd.DataFrame(lidar_med_and_mode)\n",
    "print(medmode)"
   ]
  },
  {
   "cell_type": "code",
   "execution_count": 22,
   "id": "0e7392f2-622f-455d-b4f8-10ccffb22508",
   "metadata": {},
   "outputs": [],
   "source": [
    "lidar_filtered = lidar_data[(lidar_data['lidar-lite-v3'] > 1.52400 * 100) & (lidar_data['lidar-lite-v3'] < 6.09600 * 100)]"
   ]
  },
  {
   "cell_type": "code",
   "execution_count": 23,
   "id": "32f05973-0227-4d17-944a-1f08eae35343",
   "metadata": {},
   "outputs": [
    {
     "data": {
      "text/html": [
       "<div>\n",
       "<style scoped>\n",
       "    .dataframe tbody tr th:only-of-type {\n",
       "        vertical-align: middle;\n",
       "    }\n",
       "\n",
       "    .dataframe tbody tr th {\n",
       "        vertical-align: top;\n",
       "    }\n",
       "\n",
       "    .dataframe thead th {\n",
       "        text-align: right;\n",
       "    }\n",
       "</style>\n",
       "<table border=\"1\" class=\"dataframe\">\n",
       "  <thead>\n",
       "    <tr style=\"text-align: right;\">\n",
       "      <th></th>\n",
       "      <th>timestamp</th>\n",
       "      <th>packet-counter</th>\n",
       "      <th>lidar-lite-v3</th>\n",
       "    </tr>\n",
       "  </thead>\n",
       "  <tbody>\n",
       "    <tr>\n",
       "      <th>0</th>\n",
       "      <td>2025-03-09 18:11:46</td>\n",
       "      <td>1.0</td>\n",
       "      <td>262.0</td>\n",
       "    </tr>\n",
       "    <tr>\n",
       "      <th>3</th>\n",
       "      <td>2025-03-09 18:11:55</td>\n",
       "      <td>8.0</td>\n",
       "      <td>198.0</td>\n",
       "    </tr>\n",
       "  </tbody>\n",
       "</table>\n",
       "</div>"
      ],
      "text/plain": [
       "            timestamp  packet-counter  lidar-lite-v3\n",
       "0 2025-03-09 18:11:46             1.0          262.0\n",
       "3 2025-03-09 18:11:55             8.0          198.0"
      ]
     },
     "metadata": {},
     "output_type": "display_data"
    }
   ],
   "source": [
    "lidar_dataframe = pd.DataFrame(lidar_filtered)\n",
    "display(lidar_dataframe)"
   ]
  },
  {
   "cell_type": "code",
   "execution_count": 24,
   "id": "fcc32c1c-c96f-490d-8d1c-20e4a42b08ac",
   "metadata": {},
   "outputs": [
    {
     "data": {
      "text/plain": [
       "Text(0, 0.5, 'Lidar Lite v3 Distance (m)')"
      ]
     },
     "execution_count": 24,
     "metadata": {},
     "output_type": "execute_result"
    },
    {
     "data": {
      "image/png": "[encoded data removed]",
      "text/plain": [
       "<Figure size 640x480 with 1 Axes>"
      ]
     },
     "metadata": {},
     "output_type": "display_data"
    }
   ],
   "source": [
    "plt.plot(lidar_filtered['packet-counter'], lidar_filtered['lidar-lite-v3'])\n",
    "\n",
    "for i in range(len(lidar_filtered)):\n",
    "    plt.text(lidar_filtered['packet-counter'].iloc[i], lidar_filtered['lidar-lite-v3'].iloc[i],\n",
    "             str(lidar_filtered['packet-counter'].iloc[i]), fontsize=7, color='red', ha='right')\n",
    "\n",
    "plt.xlabel('Packet Counter')\n",
    "plt.ylabel('Lidar Lite v3 Distance (m)')\n"
   ]
  },
  {
   "cell_type": "code",
   "execution_count": 1,
   "id": "e10d4ed3-a043-4857-8cb8-be7198d5e30e",
   "metadata": {},
   "outputs": [],
   "source": [
    "# - - - - - - - - - - - - - - -"
   ]
  }
 ],
 "metadata": {
  "kernelspec": {
   "display_name": "Python 3 (ipykernel)",
   "language": "python",
   "name": "python3"
  },
  "language_info": {
   "codemirror_mode": {
    "name": "ipython",
    "version": 3
   },
   "file_extension": ".py",
   "mimetype": "text/x-python",
   "name": "python",
   "nbconvert_exporter": "python",
   "pygments_lexer": "ipython3",
   "version": "3.12.9"
  }
 },
 "nbformat": 4,
 "nbformat_minor": 5
}
